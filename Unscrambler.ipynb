{
 "cells": [
  {
   "cell_type": "code",
   "execution_count": null,
   "metadata": {},
   "outputs": [],
   "source": [
    "# Python Unscrambler\n",
    "\n",
    "#Packages\n",
    "\n",
    "import numpy as np\n",
    "import itertools\n",
    "import enchant\n",
    "Dic = enchant.Dict(\"en_US\")\n",
    "\n",
    "# Letters you have but haven't tried/letters you know are contained somewhere\n",
    "letters = []\n",
    "wait1 = 'n'\n",
    "while wait1 != 'y':\n",
    "    letters=[]\n",
    "    try:\n",
    "        letters.append(input(\"Enter all possible letters (including known) (eg tgaoe): \"))\n",
    "        wait1 = input(\"Are these all the letters? \" +str(letters) +  \"(y/n) \")\n",
    "    except:\n",
    "        continue\n",
    "\n",
    "#Letter list\n",
    "letters_try = letters[0]\n",
    "for i in range(len(letters)-1):\n",
    "    letters_try.extend(letters[i+1])\n",
    "\n",
    "\n",
    "# The position of letters in your 5 word guess separated by # (eg train => t#a##)\n",
    "letters_position = []\n",
    "wait2 = 'n'\n",
    "while wait2 != 'y':\n",
    "    try:\n",
    "        letters_position.append(input(\"Enter the known position of any letters (eg if you know t and r are the 1st and 2nd letter respectively then type tr###) \"))\n",
    "        wait2 = input(\"Is this correct? (y/n) \" + str(letters_position))\n",
    "    except:\n",
    "        continue\n",
    "\n",
    "\n",
    "letters_position = letters_position[0].split(',')\n",
    "\n",
    "possible_combinations = []\n",
    "possible_combinations = [x for x in itertools.product(str(letters)[2:-2],repeat=5)]\n",
    "print(len(possible_combinations))\n",
    "\n",
    "\n",
    "words = [] # Real words\n",
    "wrong = [] # Non-real words\n",
    "\n",
    "# Main for loop which checks whether each of the five elements of the \"guess\" either matches an already known\n",
    "# letter\n",
    "for i in range(len(possible_combinations)):\n",
    "    if (possible_combinations[i][0] == letters_position[0][0] or letters_position[0][0] == \"#\")\\\n",
    "       and (possible_combinations[i][1] == letters_position[0][1] or letters_position[0][1] == \"#\")\\\n",
    "       and (possible_combinations[i][2] == letters_position[0][2] or letters_position[0][2] == \"#\")\\\n",
    "       and (possible_combinations[i][3] == letters_position[0][3] or letters_position[0][3] == \"#\")\\\n",
    "       and (possible_combinations[i][4] == letters_position[0][4] or letters_position[0][4] == \"#\")\\\n",
    "       and Dic.check(''.join(possible_combinations[i]))==True:\n",
    "        words.append(''.join(possible_combinations[i]))\n",
    "    else:\n",
    "        wrong.append(''.join(possible_combinations[i]))\n",
    "    \n",
    "#Real_words = []\n",
    "#for i in range(len(words)):\n",
    "#    if Dic.check(''.join(words[i]))==True:\n",
    "#        Real_words.append(''.join(words[i]))#\n",
    "\n",
    "words\n"
   ]
  },
  {
   "cell_type": "code",
   "execution_count": 34,
   "metadata": {},
   "outputs": [
    {
     "data": {
      "text/plain": [
       "['dodge']"
      ]
     },
     "execution_count": 34,
     "metadata": {},
     "output_type": "execute_result"
    }
   ],
   "source": []
  },
  {
   "cell_type": "code",
   "execution_count": 10,
   "metadata": {},
   "outputs": [
    {
     "name": "stdout",
     "output_type": "stream",
     "text": [
      "[]\n"
     ]
    }
   ],
   "source": []
  },
  {
   "cell_type": "code",
   "execution_count": 16,
   "metadata": {},
   "outputs": [
    {
     "data": {
      "text/plain": [
       "[]"
      ]
     },
     "execution_count": 16,
     "metadata": {},
     "output_type": "execute_result"
    }
   ],
   "source": []
  },
  {
   "cell_type": "code",
   "execution_count": null,
   "metadata": {},
   "outputs": [],
   "source": []
  },
  {
   "cell_type": "code",
   "execution_count": null,
   "metadata": {},
   "outputs": [],
   "source": []
  }
 ],
 "metadata": {
  "kernelspec": {
   "display_name": "Python 3",
   "language": "python",
   "name": "python3"
  },
  "language_info": {
   "codemirror_mode": {
    "name": "ipython",
    "version": 3
   },
   "file_extension": ".py",
   "mimetype": "text/x-python",
   "name": "python",
   "nbconvert_exporter": "python",
   "pygments_lexer": "ipython3",
   "version": "3.8.5"
  }
 },
 "nbformat": 4,
 "nbformat_minor": 4
}
